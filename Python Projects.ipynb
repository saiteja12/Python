{
 "cells": [
  {
   "cell_type": "markdown",
   "metadata": {},
   "source": [
    "# 1)\tCHEAPEST SUBARRAY\n",
    "In this problem, you will be given an array of integers and you need to tell the cost of the cheapest possible subarray of length at least two.\n",
    "A subarray is the sequence of consecutive elements of the array and the cost of a subarray is the sum of minimum and the maximum value in the subarray. \n",
    "\n",
    "Note: In an array of length n, there are n(n−1)2 subarrays whose length is atleast 2.\n",
    "\n",
    "Constraints:\n",
    "•\t1≤t≤10\n",
    "•\t2≤n≤2×104\n",
    "•\t1≤ai≤2×104\n",
    "\n",
    "Input Format:\n",
    "\n",
    "The first line contains a single integer t  denoting the number of test cases.\n",
    "The first line of each test case contains n  i.e the number of elements in the array. Next lines contains n  space-separated integers ai\n",
    "\n",
    "Output Format:\n",
    "\n",
    "Print t lines each containing a single integer. ith integer denotes the cost of the cheapest subarray for the itharray.\n",
    "\n",
    "\n"
   ]
  },
  {
   "cell_type": "code",
   "execution_count": 1,
   "metadata": {},
   "outputs": [
    {
     "name": "stdout",
     "output_type": "stream",
     "text": [
      "2\n",
      "2\n",
      "3 2\n",
      "5\n",
      "3\n",
      "3 4 2\n",
      "6\n"
     ]
    }
   ],
   "source": [
    "for i in range(int(input())):\n",
    "    n=int(input())\n",
    "    arr=list(map(int,input().split()))\n",
    "    ans=1000000\n",
    "    for i in range(n-1):\n",
    "        if arr[i]+arr[i+1]<ans:\n",
    "            ans=arr[i]+arr[i+1]\n",
    "    print(ans) \n"
   ]
  },
  {
   "cell_type": "markdown",
   "metadata": {},
   "source": [
    "# 2)BALANCED PARTITION\n",
    "There are n houses in the village Dholakpur. The location of each house in the village can be given as (xi,yi) in the Cartesian coordinate plane. There are hi persons living in the ith house. Central electricity authority of the village is set to built a wire line across the village. The wire line is supposed to constructed in a way such that it is the north-east direction. In other words the wire line is parallel to the line y=x. Given that the construction of such line is considered to be effective only if the number of persons living in its left and right side are equal, can you tell if the construction of such wire line is possible? \n",
    " \n",
    "Note: If the wire line passes through any house, the house is not considered in either half.\n",
    "Constraints:\n",
    "•\t1≤t≤100\n",
    "•\t2≤n≤2×103\n",
    "•\t−103≤xi,yi≤103\n",
    "•\t1≤hi≤103\n",
    "•\tIt is guaranteed that no two houses are at the same location.\n",
    "Input Format:\n",
    "The first line contains a single integer t  denoting the number of test cases.\n",
    "The first line of each test case contains n  i.e the number houses in the village. Next n lines contains 3 space-separated integers xi,yi and hi\n",
    "Output Format:\n",
    "Print t  lines each containing a \"YES\" or \"NO\" (without quotes). ith line corresponds to the answer of the ith testcase.\n"
   ]
  },
  {
   "cell_type": "markdown",
   "metadata": {},
   "source": [
    "Explanation:\n",
    "    \n",
    "Testcase 1: There are infinitely many wire lines which divide in 2 equal parts. Any line y=x+c,−2<c<2\n",
    "Testcase 2: No matter how hard you try, you will not get any such wire line.\n",
    "Testcase 3: Exactly 1 line, i.e. y=x+1 exists. Note that for this line the two persons living at (0,1) are neither considered on the left half, nor on the right\n"
   ]
  },
  {
   "cell_type": "code",
   "execution_count": 2,
   "metadata": {},
   "outputs": [
    {
     "name": "stdout",
     "output_type": "stream",
     "text": [
      "3\n",
      "3\n",
      "-1 1 3\n",
      "-2 1 1\n",
      "1 -1 4\n",
      "YES\n",
      "3\n",
      "1 1 2\n",
      "-1 1 1\n",
      "1 -1 2\n",
      "NO\n",
      "4\n",
      "0 2 3\n",
      "-1 1 2\n",
      "0 1 2\n",
      "3 1 5\n",
      "YES\n"
     ]
    }
   ],
   "source": [
    "t=int(input())\n",
    "for i in range(0,t):\n",
    "    n=int(input())\n",
    "    sum=0\n",
    "    l=[0 for i in range(0,4001)]\n",
    "    for i in range(0,n):\n",
    "        x,y,h=[int(i) for i in input().split()]\n",
    "        l[x-y+2000]+=h \n",
    "        sum+=h \n",
    "    cur=0\n",
    "    yes=0\n",
    "    for i in range(0,4001):\n",
    "        cur+=l[i]\n",
    "        if ((sum%2 ==0) and (cur==(sum-cur))):\n",
    "            yes=1\n",
    "            break\n",
    "        if ((sum%2==(l[i]%2)) and (cur-l[i]==(sum-cur))):\n",
    "            yes=1\n",
    "            break\n",
    "    if yes:\n",
    "        print(\"YES\")\n",
    "    else:\n",
    "        print(\"NO\")\n"
   ]
  },
  {
   "cell_type": "markdown",
   "metadata": {},
   "source": [
    "# 3)MOSQUITO MESH\n",
    "\n",
    "A mosquito mesh for a window is in the form of square grid of size n×n. As the mesh is quite old there are mholes in the mesh. A hole of size l in a mesh is a square region of side length l inside which all wires are broken. The centers of the holes lie on the main diagonal of the window.\n",
    "There is an ant which is at S(0,0). It has to go to T(n,n). In a single step the ant can go either right or up. i.e.if the ant is at (x,y) it can go to either (x+1,y) or (x,y+1), but it is not allowed to go inside any hole or outside of the mesh. Count the number of distinct paths the ant can take to reach T from S .\n",
    "Since the number of such paths can be very large you have to find the answer modulo 109+7\n",
    "\n",
    "Note: Ant can move on the boundries of both hole or mesh. See the below figure for more clarity.\n",
    "\n",
    "Sample testcase\n",
    " \n",
    "Constraints:\n",
    "•\t4≤n≤105\n",
    "•\t1≤m<n/2\n",
    "•\tli≥2\n",
    "•\t0<xi<n−2\n",
    "•\txi+li<n\n",
    "•\txi+li≤xi+1,∀1≤i<m\n",
    "•\tIt is guaranteed that no two hole will overlap and no hole share its boundry with window. But two holes can share a corner.\n",
    "\n",
    "Input Format:\n",
    "The first line contains two space-separated integers n and m  denoting the size of the window and the number of holes respectively.\n",
    "Next m  lines contain two space-separated integer. ith line contains xi and li the x-coordinate of top-left corner of the ith hole and the size of hole respectively. i.e. The top-left corner of the ith hole is at (xi,n−xi) and the bottom right corner of the ith hole is at (xi+li,n−xi−li).\n",
    "\n",
    "Output Format:\n",
    "Output a single integer denoting the number of distinct paths to reach T from S . Since the output can be very large output the answer modulo 109+7\n"
   ]
  },
  {
   "cell_type": "code",
   "execution_count": 4,
   "metadata": {},
   "outputs": [
    {
     "name": "stdout",
     "output_type": "stream",
     "text": [
      "10 2\n",
      "1 2\n",
      "5 3\n",
      "124231\n"
     ]
    }
   ],
   "source": [
    "N,M = map(int, input().split())\n",
    "array = [[-1]*(N+1) for _ in range(N+1)]\n",
    "for j in range(0,M):\n",
    "    x,l = map(int, input().split())\n",
    "    condition = True\n",
    "    while(condition):\n",
    "        l = l-1\n",
    "        x = x+1\n",
    "        array[x][N-x] = 0\n",
    "        if(l==1):\n",
    "            condition = False\n",
    "for A in range(0,N+1):\n",
    "    for B in range(0,N+1):\n",
    "        if A==0 or B==0:\n",
    "            array[A][B]=1\n",
    "        elif array[A][B] == -1:\n",
    "            array[A][B] =(array[A-1][B] + array[A][B-1])\n",
    "answer = array[N][N] % 1000000007\n",
    "print(answer)\n",
    "\n"
   ]
  },
  {
   "cell_type": "code",
   "execution_count": null,
   "metadata": {},
   "outputs": [],
   "source": []
  }
 ],
 "metadata": {
  "kernelspec": {
   "display_name": "Python 3",
   "language": "python",
   "name": "python3"
  },
  "language_info": {
   "codemirror_mode": {
    "name": "ipython",
    "version": 3
   },
   "file_extension": ".py",
   "mimetype": "text/x-python",
   "name": "python",
   "nbconvert_exporter": "python",
   "pygments_lexer": "ipython3",
   "version": "3.6.4"
  }
 },
 "nbformat": 4,
 "nbformat_minor": 2
}
