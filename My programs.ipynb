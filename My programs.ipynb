{
 "cells": [
  {
   "cell_type": "markdown",
   "metadata": {},
   "source": [
    "# Problem Statement\n",
    "You have an special IP Address.You must enter the open port. You don't have so much time to scan all the ports, but you know that the open port is equal to the sum of the digits (not numbers) from the IP Address, multiplied by the first digit from the IP Address.\n",
    "\n",
    "Input:\n",
    "The IP address. You know... numbers are separated by dots.\n",
    "\n",
    "Output:\n",
    "The open port.\n",
    "\n",
    "Constraints:\n",
    "4<=port<=65535\n",
    "\n",
    "Example:\n",
    "\n",
    "Input:\n",
    "127.0.0.1\n",
    "\n",
    "Output:\n",
    "11\n"
   ]
  },
  {
   "cell_type": "code",
   "execution_count": 1,
   "metadata": {},
   "outputs": [
    {
     "name": "stdout",
     "output_type": "stream",
     "text": [
      "127.0.0.1\n",
      "['1', '2', '7', '.', '0', '.', '0', '.', '1']\n",
      "['1', '2', '7', '0', '0', '1']\n",
      "[1, 2, 7, 0, 0, 1]\n",
      "the ip address is: 127.0.0.1\n",
      "port no is: 11\n"
     ]
    }
   ],
   "source": [
    "ip=input()\n",
    "lst=list(ip)\n",
    "print(lst)\n",
    "x='.'\n",
    "while x in lst:\n",
    "    lst.remove('.')\n",
    "print(lst)\n",
    "lst=list(map(int,lst))\n",
    "print(lst)\n",
    "print('the ip address is: {}'.format(ip))\n",
    "x=sum(lst)\n",
    "port=x*lst[0]\n",
    "print('port no is: {}'.format(port))\n"
   ]
  },
  {
   "cell_type": "markdown",
   "metadata": {},
   "source": [
    "To print the largest prime nos among the given numbers:"
   ]
  },
  {
   "cell_type": "code",
   "execution_count": 2,
   "metadata": {},
   "outputs": [
    {
     "name": "stdout",
     "output_type": "stream",
     "text": [
      "10\n",
      "5\n",
      "5\n",
      "4\n",
      "5\n",
      "56\n",
      "8\n",
      "62\n",
      "77\n",
      "13\n",
      "17\n",
      "17\n"
     ]
    }
   ],
   "source": [
    "n = int(input())\n",
    "l=[]\n",
    "prime=[]\n",
    "for i in range(n):\n",
    "    m = int(input())\n",
    "    l.append(m)\n",
    "for i in l:\n",
    "    for x in range (2,i):\n",
    "        if (i % x) == 0:\n",
    "            break\n",
    "    else:\n",
    "        prime.append(i)\n",
    "print(max(prime))\n"
   ]
  },
  {
   "cell_type": "markdown",
   "metadata": {},
   "source": [
    "# printing the fractions of the numbers\n"
   ]
  },
  {
   "cell_type": "code",
   "execution_count": 47,
   "metadata": {},
   "outputs": [
    {
     "name": "stdout",
     "output_type": "stream",
     "text": [
      "2/5\n",
      "2/5\n",
      "2 / 5\n"
     ]
    }
   ],
   "source": [
    "import sys\n",
    "import math\n",
    "from fractions import Fraction\n",
    "f = input().replace(\" / \", \"/\")\n",
    "print(f)\n",
    "try:\n",
    "    red = str(Fraction(f))\n",
    "    print(red.replace(\"/\", \" / \"))\n",
    "except:\n",
    "    print(\"INVALID\")\n",
    "\n",
    "\n",
    "\n"
   ]
  },
  {
   "cell_type": "code",
   "execution_count": null,
   "metadata": {},
   "outputs": [],
   "source": []
  }
 ],
 "metadata": {
  "kernelspec": {
   "display_name": "Python 3",
   "language": "python",
   "name": "python3"
  },
  "language_info": {
   "codemirror_mode": {
    "name": "ipython",
    "version": 3
   },
   "file_extension": ".py",
   "mimetype": "text/x-python",
   "name": "python",
   "nbconvert_exporter": "python",
   "pygments_lexer": "ipython3",
   "version": "3.6.4"
  }
 },
 "nbformat": 4,
 "nbformat_minor": 2
}
